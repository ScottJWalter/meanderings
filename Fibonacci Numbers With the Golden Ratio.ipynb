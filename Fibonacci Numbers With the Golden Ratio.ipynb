{
 "metadata": {
  "language_info": {
   "codemirror_mode": {
    "name": "ipython",
    "version": 3
   },
   "file_extension": ".py",
   "mimetype": "text/x-python",
   "name": "python",
   "nbconvert_exporter": "python",
   "pygments_lexer": "ipython3",
   "version": 3
  },
  "orig_nbformat": 2
 },
 "nbformat": 4,
 "nbformat_minor": 2,
 "cells": [
  {
   "source": [
    "# Fibonacci Function Using Golden Ratio"
   ],
   "cell_type": "markdown",
   "metadata": {}
  },
  {
   "source": [
    "First, let's define the Golden Ratio version of the Fibonacci Function:\n",
    "\n",
    "## $F_{n} = \\frac{(\\Phi^n - (\\Phi - 1)^n)}{\\sqrt{5}}$\n",
    "\n",
    "where $\\Phi$ represents the [Golden Ratio](https://en.wikipedia.org/wiki/Golden_ratio):\n",
    "\n",
    "## $\\Phi = \\frac{\\sqrt{5} + 1}{2}$ = {{(5**0.5 + 1) / 2}}\n",
    "\n",
    "Turning this into a function:"
   ],
   "cell_type": "markdown",
   "metadata": {}
  }
 ]
}